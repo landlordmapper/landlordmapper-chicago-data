{
 "cells": [
  {
   "cell_type": "code",
   "id": "initial_id",
   "metadata": {
    "collapsed": true,
    "jupyter": {
     "outputs_hidden": true
    }
   },
   "source": [
    "import importlib\n",
    "from collections import Counter\n",
    "import networkx as nx\n",
    "import matplotlib.pyplot as plt\n",
    "import numpy as np\n",
    "from networkx import connected_components\n",
    "from psycopg.types.net import Network\n",
    "\n",
    "from classes.base_data import BaseData\n",
    "\n",
    "from constants import constants as c\n",
    "from classes import base_landlord_data as bld\n",
    "from workflows import workflow_landlords as wkfl\n",
    "\n",
    "importlib.reload(c)\n",
    "importlib.reload(bld)\n",
    "importlib.reload(wkfl)\n",
    "\n",
    "from classes.base_landlord_data import NetworkAnalysis\n",
    "\n",
    "from constants.constants import DATA_ROOT\n",
    "from workflows.workflow_landlords import WkflValidateAddresses, WkflFixAddresses, WkflPrepareProps, WkflSubsetRentals, WkflCleanTaxRecords, \\\n",
    "    WkflPrepareCorpLLC, WkflValidateCorpLLC, WkflTaxStringMatch, WkflNetworkAnalysis"
   ],
   "outputs": [],
   "execution_count": null
  },
  {
   "cell_type": "markdown",
   "id": "7e183a186885f3d2",
   "metadata": {},
   "source": [
    "\n",
    "# Summary"
   ]
  },
  {
   "cell_type": "code",
   "id": "1b9a31d0ea49e2fc",
   "metadata": {},
   "source": [
    "wkfl_validated_addresses = WkflValidateAddresses()\n",
    "wkfl_validated_addresses.workflow()\n",
    "wkfl_validated_addresses.save_outputs()"
   ],
   "outputs": [],
   "execution_count": null
  },
  {
   "cell_type": "code",
   "id": "496d2784ad2e77e3",
   "metadata": {},
   "source": [
    "wkfl_fix_addresses = WkflFixAddresses()\n",
    "wkfl_fix_addresses.workflow()\n",
    "wkfl_fix_addresses.save_output()"
   ],
   "outputs": [],
   "execution_count": null
  },
  {
   "cell_type": "code",
   "id": "fcf3207d157b1f6d",
   "metadata": {},
   "source": [
    "wkfl_prepare_props = WkflPrepareProps()\n",
    "wkfl_prepare_props.workflow()\n",
    "wkfl_prepare_props.save_outputs()"
   ],
   "outputs": [],
   "execution_count": null
  },
  {
   "cell_type": "code",
   "id": "9e6f5efe34b05d33",
   "metadata": {},
   "source": [
    "wkfl_subset_rentals = WkflSubsetRentals()\n",
    "wkfl_subset_rentals.workflow()\n",
    "wkfl_subset_rentals.save_outputs()"
   ],
   "outputs": [],
   "execution_count": null
  },
  {
   "cell_type": "code",
   "id": "e6378130d7cb305c",
   "metadata": {},
   "source": [
    "wkfl_clean_tax_records = WkflCleanTaxRecords()\n",
    "wkfl_clean_tax_records.workflow()\n",
    "wkfl_clean_tax_records.save_outputs()"
   ],
   "outputs": [],
   "execution_count": null
  },
  {
   "cell_type": "code",
   "id": "c6218e2cca451c12",
   "metadata": {},
   "source": [
    "wkfl_prepare_corp_llc = WkflPrepareCorpLLC()\n",
    "wkfl_prepare_corp_llc.workflow()\n",
    "wkfl_prepare_corp_llc.save_outputs()"
   ],
   "outputs": [],
   "execution_count": null
  },
  {
   "cell_type": "code",
   "id": "4b08eb36d2fe4452",
   "metadata": {},
   "source": [
    "wkfl_validate_corp_llc = WkflValidateCorpLLC()\n",
    "wkfl_validate_corp_llc.workflow()\n",
    "wkfl_validate_corp_llc.save_outputs()"
   ],
   "outputs": [],
   "execution_count": null
  },
  {
   "cell_type": "code",
   "id": "ddac6c399ecc6db4",
   "metadata": {},
   "source": [
    "wkfl_tax_string_match = WkflTaxStringMatch()\n",
    "wkfl_tax_string_match.workflow()\n",
    "wkfl_tax_string_match.save_outputs()"
   ],
   "outputs": [],
   "execution_count": null
  },
  {
   "cell_type": "code",
   "id": "43731e5b0db527ea",
   "metadata": {},
   "source": [
    "wkfl_network_analysis = WkflNetworkAnalysis()\n",
    "wkfl_network_analysis.workflow()\n",
    "wkfl_network_analysis.save_outputs()"
   ],
   "outputs": [],
   "execution_count": null
  },
  {
   "metadata": {},
   "cell_type": "code",
   "source": "df_test = wkfl_network_analysis.df_outputs[\"props_networked\"]",
   "id": "fb41920929ac8ae7",
   "outputs": [],
   "execution_count": null
  },
  {
   "metadata": {},
   "cell_type": "code",
   "source": "df_test[\"FINAL_COMPONENT\"].value_counts().reset_index()",
   "id": "c8f1eb079aebcdc1",
   "outputs": [],
   "execution_count": null
  },
  {
   "metadata": {},
   "cell_type": "code",
   "source": [
    "df_networked = BaseData.get_df(\n",
    "    \"/Users/dpederson/Library/CloudStorage/ProtonDrive-director@landlordmapper.org-folder/data/datasets/chi2/landlord_workflow/wkfl_props_networked_test3.csv\",{}\n",
    ")"
   ],
   "id": "23faadda500321b5",
   "outputs": [],
   "execution_count": null
  },
  {
   "metadata": {},
   "cell_type": "code",
   "source": "df_networked\n",
   "id": "17b8d2df7c14184c",
   "outputs": [],
   "execution_count": null
  },
  {
   "cell_type": "markdown",
   "id": "e29e938f14490582",
   "metadata": {},
   "source": [
    "# 1. WkflValidateAddresses"
   ]
  },
  {
   "cell_type": "code",
   "id": "22b013a0349470b0",
   "metadata": {},
   "source": "wkfl_validated_addresses = WkflValidateAddresses()",
   "outputs": [],
   "execution_count": null
  },
  {
   "metadata": {},
   "cell_type": "code",
   "source": [
    "# EXECUTE WORKFLOW\n",
    "df_validated_props, df_validated_corps_llcs = wkfl_validated_addresses.drop_duplicates()"
   ],
   "id": "1e541305feae3db4",
   "outputs": [],
   "execution_count": null
  },
  {
   "cell_type": "code",
   "id": "d3114846b1cb8796",
   "metadata": {},
   "source": [
    "df_unvalidated = wkfl_validated_addresses.combine_unvalidated_addrs()"
   ],
   "outputs": [],
   "execution_count": null
  },
  {
   "cell_type": "code",
   "id": "1dd7dcc6f9fe20b4",
   "metadata": {},
   "source": [
    "df_unvalidated_filtered = wkfl_validated_addresses.remove_validated(df_unvalidated, df_validated_props, df_validated_corps_llcs)"
   ],
   "outputs": [],
   "execution_count": null
  },
  {
   "cell_type": "code",
   "id": "a9674d4b9c64434",
   "metadata": {},
   "source": [
    "df_poboxes, df_others = wkfl_validated_addresses.separate_poboxes(df_unvalidated_filtered)"
   ],
   "outputs": [],
   "execution_count": null
  },
  {
   "cell_type": "code",
   "id": "a4f2150f518f0b2",
   "metadata": {},
   "source": [
    "df_poboxes_fixed = wkfl_validated_addresses.fix_poboxes(df_poboxes)"
   ],
   "outputs": [],
   "execution_count": null
  },
  {
   "cell_type": "code",
   "id": "f545a1943825acbd",
   "metadata": {},
   "source": [
    "df_validated_poboxes, df_validated_others = wkfl_validated_addresses.run_validators(df_poboxes_fixed, df_others)"
   ],
   "outputs": [],
   "execution_count": null
  },
  {
   "cell_type": "code",
   "id": "775d2755910cdf15",
   "metadata": {},
   "source": [
    "df_validated_new, df_validated_master = wkfl_validated_addresses.concatenate_validated(\n",
    "    df_validated_poboxes, df_validated_props, df_validated_corps_llcs, df_validated_others\n",
    ")"
   ],
   "outputs": [],
   "execution_count": null
  },
  {
   "cell_type": "code",
   "id": "b7f8870632697d7a",
   "metadata": {},
   "source": [
    "df_unvalidated_master_final = wkfl_validated_addresses.generate_unvalidated_master(df_validated_new)"
   ],
   "outputs": [],
   "execution_count": null
  },
  {
   "cell_type": "code",
   "id": "3335feb6e66caa22",
   "metadata": {},
   "source": [
    "df_validated_master_final = wkfl_validated_addresses.generate_validated_master(df_validated_master)"
   ],
   "outputs": [],
   "execution_count": null
  },
  {
   "cell_type": "markdown",
   "id": "aa10b7791f5bbc20",
   "metadata": {},
   "source": [
    "# 2. WkflFixAddresses"
   ]
  },
  {
   "cell_type": "code",
   "id": "8cb07f72395c3c5e",
   "metadata": {},
   "source": [
    "wkfl_fix_addresses = WkflFixAddresses()\n",
    "\n",
    "# LOAD DATA\n",
    "df_addrs_to_fix = wkfl_fix_addresses.df_addrs_to_fix_in\n",
    "df_addrs_to_fix_unit = wkfl_fix_addresses.df_addrs_to_fix_unit_in\n",
    "df_addrs_to_fix_missing = wkfl_fix_addresses.df_addrs_to_fix_missing_in\n",
    "\n",
    "# EXECUTE WORKFLOW\n",
    "df_unit_fixed, df_missing_fixed = wkfl_fix_addresses.add_missing_units_to_formatted_address(df_addrs_to_fix_unit, df_addrs_to_fix_missing)"
   ],
   "outputs": [],
   "execution_count": null
  },
  {
   "cell_type": "code",
   "id": "8a0740fb080062cf",
   "metadata": {},
   "source": [
    "df_valid_addrs_updated_fixed = wkfl_fix_addresses.replace_fixed_addresses(df_addrs_to_fix, df_unit_fixed, df_missing_fixed)"
   ],
   "outputs": [],
   "execution_count": null
  },
  {
   "cell_type": "code",
   "id": "a5ab8e72898e7880",
   "metadata": {},
   "source": [
    "df_valid_addrs_updated_final = wkfl_fix_addresses.finalize_validated_master(df_valid_addrs_updated_fixed)"
   ],
   "outputs": [],
   "execution_count": null
  },
  {
   "metadata": {},
   "cell_type": "markdown",
   "source": "# 3. WkflPrepareProps",
   "id": "7b0cb68e19ce82ae"
  },
  {
   "cell_type": "code",
   "id": "378f4684767f539c",
   "metadata": {},
   "source": [
    "wkfl_prepare_props = WkflPrepareProps()\n",
    "\n",
    "# LOAD DATA\n",
    "df_less_6 = wkfl_prepare_props.df_less_6_in\n",
    "df_greater_7 = wkfl_prepare_props.df_greater_7_in\n",
    "df_pins_results = wkfl_prepare_props.df_pins_results_in\n",
    "\n",
    "# EXECUTE WORKFLOW\n",
    "df_props_validated = wkfl_prepare_props.merge_validated_addresses()"
   ],
   "outputs": [],
   "execution_count": null
  },
  {
   "cell_type": "code",
   "id": "c16d83707ef92259",
   "metadata": {},
   "source": [
    "df_greater_7_clean, df_pins_results_clean = wkfl_prepare_props.add_property_classes(df_greater_7, df_pins_results)"
   ],
   "outputs": [],
   "execution_count": null
  },
  {
   "cell_type": "code",
   "id": "5cdee035c006e35d",
   "metadata": {},
   "source": [
    "df_merged = wkfl_prepare_props.merge_class_props(df_props_validated, df_less_6, df_greater_7_clean, df_pins_results_clean)"
   ],
   "outputs": [],
   "execution_count": null
  },
  {
   "cell_type": "code",
   "id": "e1abb31f44e7a7d4",
   "metadata": {},
   "source": [
    "df_merged_clean = wkfl_prepare_props.clean_class_codes(df_merged)"
   ],
   "outputs": [],
   "execution_count": null
  },
  {
   "cell_type": "code",
   "id": "5bc87536b22e1490",
   "metadata": {},
   "source": [
    "df_merged_final = wkfl_prepare_props.finalize_class_codes(df_merged_clean)"
   ],
   "outputs": [],
   "execution_count": null
  },
  {
   "cell_type": "markdown",
   "id": "c98e7dc6b2592617",
   "metadata": {},
   "source": [
    "# 4. WkflSubsetRentals"
   ]
  },
  {
   "cell_type": "code",
   "id": "9e277ceceb80b548",
   "metadata": {},
   "source": [
    "wkfl_subset_rentals = WkflSubsetRentals()\n",
    "\n",
    "# LOAD DATA\n",
    "df_props_all = wkfl_subset_rentals.df_props_all_in\n",
    "df_mto = wkfl_subset_rentals.df_mto_in\n",
    "\n",
    "# EXECUTE WORKFLOW\n",
    "df_rentals = wkfl_subset_rentals.subset_by_class_codes(df_props_all)"
   ],
   "outputs": [],
   "execution_count": null
  },
  {
   "cell_type": "code",
   "id": "1e5ea9f68c9055e7",
   "metadata": {},
   "source": [
    "df_rentals_missed = wkfl_subset_rentals.subset_by_taxpayer_address(df_rentals, df_props_all)"
   ],
   "outputs": [],
   "execution_count": null
  },
  {
   "cell_type": "code",
   "id": "b03d6a7e98c51690",
   "metadata": {},
   "source": "df_props_mto = wkfl_subset_rentals.subset_by_mto_pins(df_mto, df_props_all)\n",
   "outputs": [],
   "execution_count": null
  },
  {
   "metadata": {},
   "cell_type": "code",
   "source": "df_rentals_final = wkfl_subset_rentals.finalize_rental_subset(df_rentals, df_rentals_missed, df_props_mto)\n",
   "id": "adb0be01079ed178",
   "outputs": [],
   "execution_count": null
  },
  {
   "cell_type": "markdown",
   "id": "c6e234ea6e89d948",
   "metadata": {},
   "source": [
    "# 5. WkflCleanTaxRecords"
   ]
  },
  {
   "cell_type": "code",
   "id": "515d4fc6cffe559",
   "metadata": {},
   "source": [
    "wkfl_clean_tax_records = WkflCleanTaxRecords()\n",
    "\n",
    "# LOAD DATA\n",
    "df_rentals = wkfl_clean_tax_records.df_rentals_in\n",
    "\n",
    "# EXECUTE WORKFLOW\n",
    "df_rentals_cleaned = wkfl_clean_tax_records.clean_taxpayer_names(df_rentals)"
   ],
   "outputs": [],
   "execution_count": null
  },
  {
   "cell_type": "code",
   "id": "ab775de04da6148b",
   "metadata": {},
   "source": [
    "df_rentals_bools = wkfl_clean_tax_records.add_common_name_address_booleans(df_rentals_cleaned)"
   ],
   "outputs": [],
   "execution_count": null
  },
  {
   "cell_type": "code",
   "id": "e3b480ab8ce16a3",
   "metadata": {
    "jupyter": {
     "is_executing": true
    }
   },
   "source": [
    "df_corp_bools = wkfl_clean_tax_records.add_corp_booleans(df_rentals_bools)"
   ],
   "outputs": [],
   "execution_count": null
  },
  {
   "cell_type": "code",
   "id": "ec083bf7a78ae02e",
   "metadata": {},
   "source": [
    "df_cleaned_final = wkfl_clean_tax_records.add_columns_banks_trusts(df_corp_bools)"
   ],
   "outputs": [],
   "execution_count": null
  },
  {
   "cell_type": "markdown",
   "id": "1962fb5cf11c1b16",
   "metadata": {},
   "source": [
    "# 6. WkflPrepareCorpLlc"
   ]
  },
  {
   "cell_type": "code",
   "id": "59170ee7c645d90d",
   "metadata": {},
   "source": [
    "wkfl_prepare_corp_llc = WkflPrepareCorpLLC()\n",
    "\n",
    "# LOAD DATA\n",
    "df_corp = wkfl_prepare_corp_llc.df_corp_in\n",
    "df_llc = wkfl_prepare_corp_llc.df_llc_in\n",
    "df_props = wkfl_prepare_corp_llc.df_props_in\n",
    "\n",
    "# EXECUTE WORKFLOW\n",
    "df_corp_subset, df_llc_subset = wkfl_prepare_corp_llc.subset_active_corps_llcs(df_corp, df_llc)"
   ],
   "outputs": [],
   "execution_count": null
  },
  {
   "cell_type": "code",
   "id": "ba74fd163b3e74e0",
   "metadata": {},
   "source": [
    "df_corp_subset_addrs = wkfl_prepare_corp_llc.set_corp_address_columns(df_corp_subset)"
   ],
   "outputs": [],
   "execution_count": null
  },
  {
   "cell_type": "code",
   "id": "a61c0576ece12206",
   "metadata": {},
   "source": [
    "df_llc_subset_fixed_zips = wkfl_prepare_corp_llc.fix_llc_zip_codes(df_llc_subset)"
   ],
   "outputs": [],
   "execution_count": null
  },
  {
   "cell_type": "code",
   "id": "172341b88dbef7c3",
   "metadata": {},
   "source": [
    "df_llc_subset_addrs = wkfl_prepare_corp_llc.set_llc_address_columns(df_llc_subset_fixed_zips)"
   ],
   "outputs": [],
   "execution_count": null
  },
  {
   "cell_type": "code",
   "id": "d3167ea7fee55280",
   "metadata": {},
   "source": [
    "df_corps_llcs = wkfl_prepare_corp_llc.extract_unique_corps_llcs(df_corp_subset_addrs, df_llc_subset_addrs)"
   ],
   "outputs": [],
   "execution_count": null
  },
  {
   "cell_type": "code",
   "id": "67ae94d471246d85",
   "metadata": {},
   "source": [
    "df_corps_llcs_cleaned = wkfl_prepare_corp_llc.clean_corp_llc_names(df_corps_llcs)"
   ],
   "outputs": [],
   "execution_count": null
  },
  {
   "cell_type": "code",
   "id": "f31d2e2d458e73f2",
   "metadata": {},
   "source": [
    "df_merge_clean = wkfl_prepare_corp_llc.merge_on_clean_name(df_props, df_corps_llcs_cleaned)"
   ],
   "outputs": [],
   "execution_count": null
  },
  {
   "cell_type": "code",
   "id": "f63a434b40d618c6",
   "metadata": {},
   "source": [
    "df_merge_core = wkfl_prepare_corp_llc.merge_on_core_name(df_merge_clean, df_corps_llcs_cleaned)"
   ],
   "outputs": [],
   "execution_count": null
  },
  {
   "cell_type": "code",
   "id": "f04f751a7ecaa6ca",
   "metadata": {},
   "source": [
    "df_matches = wkfl_prepare_corp_llc.get_string_matches(df_merge_core, df_corps_llcs_cleaned)"
   ],
   "outputs": [],
   "execution_count": null
  },
  {
   "cell_type": "code",
   "id": "3a9c18f080dce0cc",
   "metadata": {},
   "source": [
    "df_merge_string_match = wkfl_prepare_corp_llc.merge_on_string_matches(df_merge_core, df_matches)"
   ],
   "outputs": [],
   "execution_count": null
  },
  {
   "cell_type": "code",
   "id": "da29fddd7f6a742d",
   "metadata": {},
   "source": [
    "df_corps_props, df_llcs_props = wkfl_prepare_corp_llc.subset_corps_llcs(\n",
    "    df_merge_string_match, df_corp_subset_addrs, df_llc_subset_addrs\n",
    ")"
   ],
   "outputs": [],
   "execution_count": null
  },
  {
   "cell_type": "markdown",
   "id": "be1583b236ed8594",
   "metadata": {},
   "source": [
    "# 7. WkflValidateCorpLlc"
   ]
  },
  {
   "cell_type": "code",
   "id": "c89904602ccb972b",
   "metadata": {},
   "source": [
    "wkfl_validate_corp_llc = WkflValidateCorpLLC()\n",
    "\n",
    "# LOAD DATA\n",
    "df_llc_props = wkfl_validate_corp_llc.df_llc_props_in\n",
    "df_corp_props = wkfl_validate_corp_llc.df_corp_props_in\n",
    "df_valid_addrs = wkfl_validate_corp_llc.df_valid_addrs_in\n",
    "df_rentals = wkfl_validate_corp_llc.df_rentals_in\n",
    "\n",
    "# EXECUTE WORKFLOW\n",
    "df_corp_props_cleaned, df_llc_props_cleaned = wkfl_validate_corp_llc.drop_dups_add_is_corp_llc_booleans(df_corp_props, df_llc_props)"
   ],
   "outputs": [],
   "execution_count": null
  },
  {
   "cell_type": "code",
   "id": "1ae226c9cadb3873",
   "metadata": {},
   "source": [
    "df_corp_merged = wkfl_validate_corp_llc.merge_corps_on_addresses(df_corp_props_cleaned, df_valid_addrs)"
   ],
   "outputs": [],
   "execution_count": null
  },
  {
   "cell_type": "code",
   "id": "7693341cd041a8c5",
   "metadata": {},
   "source": [
    "df_llc_merged = wkfl_validate_corp_llc.merge_llcs_on_addresses(df_llc_props_cleaned, df_valid_addrs)"
   ],
   "outputs": [],
   "execution_count": null
  },
  {
   "cell_type": "code",
   "id": "13c13dd7f567e6ab",
   "metadata": {},
   "source": [
    "df_corp_merged_final, df_llc_merged_final = wkfl_validate_corp_llc.clean_address_merges(df_corp_merged, df_llc_merged)"
   ],
   "outputs": [],
   "execution_count": null
  },
  {
   "cell_type": "code",
   "id": "7e639f24a6d970d8",
   "metadata": {},
   "source": [
    "df_rentals_merged = wkfl_validate_corp_llc.merge_props_on_corps(df_llc_merged_final, df_corp_merged_final, df_rentals)"
   ],
   "outputs": [],
   "execution_count": null
  },
  {
   "cell_type": "code",
   "id": "edd5cafb35a2558d",
   "metadata": {},
   "source": [
    "df_rentals_merged_cleaned = wkfl_validate_corp_llc.clean_merge_columns(df_rentals_merged)"
   ],
   "outputs": [],
   "execution_count": null
  },
  {
   "cell_type": "code",
   "id": "25fa228de1c5a642",
   "metadata": {},
   "source": [
    "df_rentals_match_addresses = wkfl_validate_corp_llc.set_address_matching_columns(df_rentals_merged_cleaned)"
   ],
   "outputs": [],
   "execution_count": null
  },
  {
   "cell_type": "code",
   "id": "4de5ef49ead09f21",
   "metadata": {},
   "source": [
    "df_rentals_final = wkfl_validate_corp_llc.set_address_booleans(df_rentals_match_addresses)"
   ],
   "outputs": [],
   "execution_count": null
  },
  {
   "cell_type": "markdown",
   "id": "9e7bc3f9de88cd7d",
   "metadata": {},
   "source": [
    "# 8. WkflTaxStringMatch"
   ]
  },
  {
   "cell_type": "code",
   "id": "ddbf1dc1d4c4f593",
   "metadata": {},
   "source": [
    "wkfl_tax_string_match = WkflTaxStringMatch()\n",
    "\n",
    "# LOAD DATA\n",
    "df_rentals = wkfl_tax_string_match.df_rentals_in\n",
    "df_analysis = wkfl_tax_string_match.df_analysis_in\n"
   ],
   "outputs": [],
   "execution_count": null
  },
  {
   "metadata": {},
   "cell_type": "code",
   "source": "string_match_results = wkfl_tax_string_match.run_string_matching(df_rentals, df_analysis)\n",
   "id": "a3a1653fbfa0e7a5",
   "outputs": [],
   "execution_count": null
  },
  {
   "metadata": {},
   "cell_type": "markdown",
   "source": "",
   "id": "914483cad86ab0e9"
  },
  {
   "cell_type": "markdown",
   "id": "19597e863a73da41",
   "metadata": {},
   "source": [
    "# 9. WkflNetworkAnalysis"
   ]
  },
  {
   "cell_type": "code",
   "id": "88eb4338286ce06e",
   "metadata": {},
   "source": [
    "wkfl_network_analysis = WkflNetworkAnalysis()\n",
    "\n",
    "# LOAD DATA\n",
    "df_rentals = wkfl_network_analysis.df_rentals_in\n",
    "df_analysis = wkfl_network_analysis.df_analysis_in"
   ],
   "outputs": [],
   "execution_count": null
  },
  {
   "metadata": {},
   "cell_type": "code",
   "source": "results = wkfl_network_analysis.run_network_analysis(df_rentals, df_analysis)",
   "id": "b5138ce2ecba9698",
   "outputs": [],
   "execution_count": null
  },
  {
   "metadata": {},
   "cell_type": "code",
   "outputs": [],
   "execution_count": null,
   "source": "wkfl_network_analysis.save_outputs()\n",
   "id": "3c900f507aa54bd4"
  }
 ],
 "metadata": {
  "kernelspec": {
   "display_name": "Python 3 (ipykernel)",
   "language": "python",
   "name": "python3"
  },
  "language_info": {
   "codemirror_mode": {
    "name": "ipython",
    "version": 3
   },
   "file_extension": ".py",
   "mimetype": "text/x-python",
   "name": "python",
   "nbconvert_exporter": "python",
   "pygments_lexer": "ipython3",
   "version": "3.12.0"
  }
 },
 "nbformat": 4,
 "nbformat_minor": 5
}
