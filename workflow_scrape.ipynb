{
 "cells": [
  {
   "cell_type": "code",
   "id": "initial_id",
   "metadata": {
    "collapsed": true
   },
   "source": [
    "import importlib\n",
    "import ipywidgets as widgets\n",
    "import pandas as pd\n",
    "\n",
    "# import constants\n",
    "from constants import constants as c\n",
    "from constants.landlord_fields import LandlordFields as lf\n",
    "\n",
    "# import classes\n",
    "import classes.base_data as b\n",
    "import classes.base_scrape as bs\n",
    "import classes.base_geocodio as gcd\n",
    "\n",
    "# import workflows\n",
    "import workflows.workflow_scrape as sc\n",
    "\n",
    "# reload constants\n",
    "# reload classes\n",
    "importlib.reload(b)\n",
    "importlib.reload(bs)\n",
    "importlib.reload(gcd)\n",
    "importlib.reload(c)\n",
    "\n",
    "# reload workflows\n",
    "importlib.reload(sc)\n",
    "\n",
    "from classes.base_data import BaseData as b\n",
    "from classes.base_geocodio import BaseGeocodio as gcd\n",
    "from workflows.workflow_scrape import WkflScrape\n",
    "from constants.constants import DATA_ROOT, CookCounty"
   ],
   "outputs": [],
   "execution_count": null
  },
  {
   "metadata": {},
   "cell_type": "code",
   "source": "wkfl_scrape = WkflScrape()",
   "id": "d88745cd7b35d0c3",
   "outputs": [],
   "execution_count": null
  },
  {
   "metadata": {},
   "cell_type": "code",
   "source": "wkfl_scrape.separate_chicago()",
   "id": "267f177f8ca70398",
   "outputs": [],
   "execution_count": null
  },
  {
   "metadata": {},
   "cell_type": "code",
   "source": "wkfl_scrape.separate_success_failure()",
   "id": "dbc608d1d805c68f",
   "outputs": [],
   "execution_count": null
  },
  {
   "metadata": {},
   "cell_type": "code",
   "source": "wkfl_scrape.combine_partials_save()",
   "id": "a913e94626c8e981",
   "outputs": [],
   "execution_count": null
  },
  {
   "metadata": {},
   "cell_type": "code",
   "outputs": [],
   "execution_count": null,
   "source": "wkfl_scrape.concatenate_to_master()",
   "id": "172c76177a93a826"
  }
 ],
 "metadata": {
  "kernelspec": {
   "display_name": "Python 3",
   "language": "python",
   "name": "python3"
  },
  "language_info": {
   "codemirror_mode": {
    "name": "ipython",
    "version": 2
   },
   "file_extension": ".py",
   "mimetype": "text/x-python",
   "name": "python",
   "nbconvert_exporter": "python",
   "pygments_lexer": "ipython2",
   "version": "2.7.6"
  }
 },
 "nbformat": 4,
 "nbformat_minor": 5
}
