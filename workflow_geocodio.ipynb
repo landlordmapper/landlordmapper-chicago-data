{
 "cells": [
  {
   "metadata": {
    "ExecuteTime": {
     "end_time": "2025-01-13T15:37:00.138729Z",
     "start_time": "2025-01-13T15:36:59.728905Z"
    }
   },
   "cell_type": "code",
   "source": [
    "import importlib\n",
    "import ipywidgets as widgets\n",
    "import pandas as pd\n",
    "from jupyterlab.semver import valid\n",
    "\n",
    "# import classes\n",
    "import classes.base_data as b\n",
    "import classes.base_scrape as bs\n",
    "import classes.base_geocodio as gcd\n",
    "\n",
    "# import workflows\n",
    "import workflows.workflow_geocodio as wgcd\n",
    "\n",
    "# reload constants\n",
    "import constants.constants as c\n",
    "# reload classes\n",
    "importlib.reload(b)\n",
    "importlib.reload(bs)\n",
    "importlib.reload(gcd)\n",
    "importlib.reload(c)\n",
    "\n",
    "# reload workflows\n",
    "importlib.reload(wgcd)\n",
    "\n",
    "from classes.base_data import BaseData as b\n",
    "from classes.base_geocodio import BaseGeocodio\n",
    "from workflows.workflow_geocodio import WkflGeocodio\n",
    "from constants.constants import DATA_ROOT\n",
    "from constants.landlord_fields import LandlordFields as lf\n"
   ],
   "id": "bf50b6973940163",
   "outputs": [],
   "execution_count": 1
  },
  {
   "metadata": {},
   "cell_type": "markdown",
   "source": "# Summary",
   "id": "e0025e9ba50743b7"
  },
  {
   "metadata": {},
   "cell_type": "code",
   "source": [
    "wkfl_geocodio = WkflGeocodio()\n",
    "wkfl_geocodio.workflow()"
   ],
   "id": "8b89e9e41a816050",
   "outputs": [],
   "execution_count": null
  }
 ],
 "metadata": {
  "kernelspec": {
   "display_name": "Python 3",
   "language": "python",
   "name": "python3"
  },
  "language_info": {
   "codemirror_mode": {
    "name": "ipython",
    "version": 2
   },
   "file_extension": ".py",
   "mimetype": "text/x-python",
   "name": "python",
   "nbconvert_exporter": "python",
   "pygments_lexer": "ipython2",
   "version": "2.7.6"
  }
 },
 "nbformat": 4,
 "nbformat_minor": 5
}
